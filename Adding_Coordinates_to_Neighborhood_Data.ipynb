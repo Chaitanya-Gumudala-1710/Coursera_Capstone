{
  "nbformat": 4,
  "nbformat_minor": 0,
  "metadata": {
    "colab": {
      "name": "Adding Coordinates to Neighborhood Data.ipynb",
      "provenance": [],
      "collapsed_sections": [],
      "authorship_tag": "ABX9TyMUjqdCHkwU7HSDCS1Ls3hf"
    },
    "kernelspec": {
      "name": "python3",
      "display_name": "Python 3"
    },
    "language_info": {
      "name": "python"
    }
  },
  "cells": [
    {
      "cell_type": "code",
      "metadata": {
        "id": "MAiiPfDn3PGK"
      },
      "source": [
        "import pandas as pd"
      ],
      "execution_count": 1,
      "outputs": []
    },
    {
      "cell_type": "code",
      "metadata": {
        "id": "d4FT07e_3sfA"
      },
      "source": [
        "toronto_data = pd.read_csv(\"/content/Toronto_Data_with_Zipcodes.csv\")"
      ],
      "execution_count": 2,
      "outputs": []
    },
    {
      "cell_type": "code",
      "metadata": {
        "colab": {
          "base_uri": "https://localhost:8080/"
        },
        "id": "h4te49_S4aAG",
        "outputId": "d5842ba2-e3ab-437a-8b15-ef0567d0d041"
      },
      "source": [
        "print(toronto_data.head())"
      ],
      "execution_count": 3,
      "outputs": [
        {
          "output_type": "stream",
          "text": [
            "   Unnamed: 0 PostalCode           Borough                      Neighborhood\n",
            "0           0        M3A        North York                         Parkwoods\n",
            "1           1        M4A        North York                  Victoria Village\n",
            "2           2        M5A  Downtown Toronto         Regent Park, Harbourfront\n",
            "3           3        M6A        North York  Lawrence Manor, Lawrence Heights\n",
            "4           4        M7A      Queen's Park     Ontario Provincial Government\n"
          ],
          "name": "stdout"
        }
      ]
    },
    {
      "cell_type": "code",
      "metadata": {
        "id": "V3q-AYrv4IpJ"
      },
      "source": [
        "coordinates_data = pd.read_csv(\"/content/Geospatial_Coordinates.csv\")"
      ],
      "execution_count": 4,
      "outputs": []
    },
    {
      "cell_type": "code",
      "metadata": {
        "id": "EVHvLfXh4eOX",
        "colab": {
          "base_uri": "https://localhost:8080/"
        },
        "outputId": "605c0808-04ad-43f2-e6aa-ee0a585c4a0e"
      },
      "source": [
        "print(coordinates_data.head())"
      ],
      "execution_count": 5,
      "outputs": [
        {
          "output_type": "stream",
          "text": [
            "  Postal Code   Latitude  Longitude\n",
            "0         M1B  43.806686 -79.194353\n",
            "1         M1C  43.784535 -79.160497\n",
            "2         M1E  43.763573 -79.188711\n",
            "3         M1G  43.770992 -79.216917\n",
            "4         M1H  43.773136 -79.239476\n"
          ],
          "name": "stdout"
        }
      ]
    },
    {
      "cell_type": "code",
      "metadata": {
        "id": "O2Xem0nF6lSw"
      },
      "source": [
        "toronto_coordinates_data = pd.merge(toronto_data, coordinates_data, left_on=\"PostalCode\", right_on=\"Postal Code\")\n",
        "toronto_coordinates_data.drop(columns=[\"Postal Code\"], axis=1, inplace=True)"
      ],
      "execution_count": 6,
      "outputs": []
    },
    {
      "cell_type": "code",
      "metadata": {
        "colab": {
          "base_uri": "https://localhost:8080/"
        },
        "id": "1VE1SGDB7Dai",
        "outputId": "dc4bca9f-2e92-4621-9197-d6093f066144"
      },
      "source": [
        "print(toronto_coordinates_data.head())"
      ],
      "execution_count": 7,
      "outputs": [
        {
          "output_type": "stream",
          "text": [
            "   Unnamed: 0 PostalCode  ...   Latitude  Longitude\n",
            "0           0        M3A  ...  43.753259 -79.329656\n",
            "1           1        M4A  ...  43.725882 -79.315572\n",
            "2           2        M5A  ...  43.654260 -79.360636\n",
            "3           3        M6A  ...  43.718518 -79.464763\n",
            "4           4        M7A  ...  43.662301 -79.389494\n",
            "\n",
            "[5 rows x 6 columns]\n"
          ],
          "name": "stdout"
        }
      ]
    },
    {
      "cell_type": "code",
      "metadata": {
        "id": "yfVjM83b7sWF"
      },
      "source": [
        "toronto_coordinates_data.to_csv(\"Toronto_Coordinates_data_with_ZipCode.csv\")"
      ],
      "execution_count": 8,
      "outputs": []
    }
  ]
}