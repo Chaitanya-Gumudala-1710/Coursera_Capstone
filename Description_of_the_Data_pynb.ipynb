{
  "nbformat": 4,
  "nbformat_minor": 0,
  "metadata": {
    "colab": {
      "name": "Description of the Data.pynb",
      "provenance": [],
      "collapsed_sections": [],
      "authorship_tag": "ABX9TyO/3i2or/JtyXLxyCmPX7Z6"
    },
    "kernelspec": {
      "name": "python3",
      "display_name": "Python 3"
    },
    "language_info": {
      "name": "python"
    }
  },
  "cells": [
    {
      "cell_type": "markdown",
      "metadata": {
        "id": "CkWvbHT3JYxY"
      },
      "source": [
        "# **Libraries Used**"
      ]
    },
    {
      "cell_type": "markdown",
      "metadata": {
        "id": "m7a_Ld8xJfjw"
      },
      "source": [
        "1. Pandas\n",
        "2. Numpy \n",
        "3. Folium\n",
        "4. Scikitlearn\n",
        "5. JSON\n",
        "6. Geocoder\n",
        "7. XML\n",
        "8. Beautiful Soup\n",
        "9. Requests\n",
        "10. Matplotlib"
      ]
    },
    {
      "cell_type": "markdown",
      "metadata": {
        "id": "diHjy2BdKeOC"
      },
      "source": [
        "# **Data**"
      ]
    },
    {
      "cell_type": "markdown",
      "metadata": {
        "id": "CklIErs7KqFF"
      },
      "source": [
        "Data link for getting neighborhood : https://en.wikipedia.org/wiki/List_of_postal_codes_of_Canada:_M\n",
        "\n",
        "We will need data about different venues in different neighborhoods of that specific North York. Foursquare is a location data provider with information about all manner of venues and events within an area of interest. Such information includes venue names, locations, menus and even photos.\n",
        "We get the data of :\n",
        "1. Neighborhood coordinates\n",
        "2. Venue Name\n",
        "3. Venue coordinates\n",
        "4. Venue Category"
      ]
    }
  ]
}