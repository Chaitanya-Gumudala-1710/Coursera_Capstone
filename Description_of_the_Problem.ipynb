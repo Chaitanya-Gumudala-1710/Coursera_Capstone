{
  "nbformat": 4,
  "nbformat_minor": 0,
  "metadata": {
    "colab": {
      "name": "Description of the Problem.ipynb",
      "provenance": [],
      "collapsed_sections": [],
      "authorship_tag": "ABX9TyPbHTHwZe93YWygDGmeIBwA"
    },
    "kernelspec": {
      "name": "python3",
      "display_name": "Python 3"
    },
    "language_info": {
      "name": "python"
    }
  },
  "cells": [
    {
      "cell_type": "markdown",
      "metadata": {
        "id": "tlkkadshDYXs"
      },
      "source": [
        "# **The Battle of Neighborhoods**\n"
      ]
    },
    {
      "cell_type": "markdown",
      "metadata": {
        "id": "tZ0XXLAxDgqC"
      },
      "source": [
        "The aim of our project is to suggest the neighborhood for people who move from one neighborhood to other. It will help people making descision for selecting their neighborhood in Toronto.  \n",
        "\n",
        "Many People move from other countries to Canada and immigrants need to do a lots of research for houses at cheaper house and reputed schools. This project is for those people who are looking for ease of access to Cafe, School, Super market, medical shops, grocery shops, mall, theatre, hospital. This will increase the awareness for the people moving into the city from other places of the country."
      ]
    },
    {
      "cell_type": "markdown",
      "metadata": {
        "id": "4LuG7B_9EeBk"
      },
      "source": [
        "### **Problems tried to solve**"
      ]
    },
    {
      "cell_type": "markdown",
      "metadata": {
        "id": "8DRWZ4lrFl8Q"
      },
      "source": [
        "\n",
        "\n",
        "1.   Suggest a better housing apartments according to price from lowest to highest.\n",
        "2.   Suggest a schools which are highly rated and fees structure from ascending to descending.\n",
        "\n"
      ]
    },
    {
      "cell_type": "markdown",
      "metadata": {
        "id": "taFLSL5uGDd5"
      },
      "source": [
        "## **Location**"
      ]
    },
    {
      "cell_type": "markdown",
      "metadata": {
        "id": "iwgpB-0iGImz"
      },
      "source": [
        "North York is one of the six administrative districts of Toronto, Ontario, Canada. It is located directly north of York, Old Toronto and East York, between Etobicoke to the west and Scarborough to the east. The district's central business district is known as North York Centre, which was the location of the former city's government and major corporate headquarters. North York Centre continues to be one of Toronto's major corporate areas with many office buildings and businesses. The former city hall of North York, the North York Civic Centre, is located within North York City Centre."
      ]
    },
    {
      "cell_type": "markdown",
      "metadata": {
        "id": "0A_62_AYGh_4"
      },
      "source": [
        "## **Foursquare API**"
      ]
    },
    {
      "cell_type": "markdown",
      "metadata": {
        "id": "_00K157CG38o"
      },
      "source": [
        "We use forusquare API for extracting data of neighborhoods of Northyork. Foursquare API consists of database with million places data which consists of ratings and details\n",
        "For getting data we use our foursquare API credentials."
      ]
    },
    {
      "cell_type": "markdown",
      "metadata": {
        "id": "LMJucAQbHk_7"
      },
      "source": [
        "## **Clustering Approach**"
      ]
    },
    {
      "cell_type": "markdown",
      "metadata": {
        "id": "bkj6GfKeHqS2"
      },
      "source": [
        "In this project we use KNN Algorithm. K-Nearest Neighbour is one of the simplest Machine Learning algorithms based on Supervised Learning technique.KNN algorithm assumes the similarity between the new case/data and available cases and put the new case into the category that is most similar to the available categories."
      ]
    }
  ]
}