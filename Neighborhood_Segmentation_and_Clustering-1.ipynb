{
  "nbformat": 4,
  "nbformat_minor": 0,
  "metadata": {
    "colab": {
      "name": "Neighborhood Segmentation and Clustering.ipynb",
      "provenance": [],
      "collapsed_sections": [],
      "authorship_tag": "ABX9TyMGT+/UPLxqjqFDqRSyNT/M"
    },
    "kernelspec": {
      "name": "python3",
      "display_name": "Python 3"
    },
    "language_info": {
      "name": "python"
    }
  },
  "cells": [
    {
      "cell_type": "markdown",
      "metadata": {
        "id": "SxVjuH1B3QOb"
      },
      "source": [
        "### ***Notebook for Segmenting and Clustering Neighborhoods in Toronto***"
      ]
    },
    {
      "cell_type": "code",
      "metadata": {
        "id": "P2BB8Ynyzn3n"
      },
      "source": [
        "import pandas as pd\n",
        "import numpy as np\n",
        "import json\n",
        "import requests\n",
        "from geopy.geocoders import Nominatim\n",
        "import matplotlib.cm as cm\n",
        "import matplotlib.colors as colors\n",
        "import folium\n",
        "from bs4 import BeautifulSoup"
      ],
      "execution_count": null,
      "outputs": []
    },
    {
      "cell_type": "code",
      "metadata": {
        "id": "V4jz2h8h3Pry"
      },
      "source": [
        "url = \"https://en.wikipedia.org/wiki/List_of_postal_codes_of_Canada:_M\"\n",
        "req = requests.get(url)\n",
        "soup = BeautifulSoup(req.content, \"lxml\")"
      ],
      "execution_count": null,
      "outputs": []
    },
    {
      "cell_type": "code",
      "metadata": {
        "id": "L9XnUE9q6RZv"
      },
      "source": [
        "table_contents=[]\n",
        "table=soup.find('table')\n",
        "for row in table.findAll('td'):\n",
        "    cell = {}\n",
        "    if row.span.text=='Not assigned':\n",
        "        pass\n",
        "    else:\n",
        "        cell['PostalCode'] = row.p.text[:3]\n",
        "        cell['Borough'] = (row.span.text).split('(')[0]\n",
        "        cell['Neighborhood'] = (((((row.span.text).split('(')[1]).strip(')')).replace(' /',',')).replace(')',' ')).strip(' ')\n",
        "        table_contents.append(cell)\n",
        "\n",
        "# print(table_contents)\n",
        "data=pd.DataFrame(table_contents)\n",
        "data['Borough']=data['Borough'].replace({'Downtown TorontoStn A PO Boxes25 The Esplanade':'Downtown Toronto Stn A',\n",
        "                                             'East TorontoBusiness reply mail Processing Centre969 Eastern':'East Toronto Business',\n",
        "                                             'EtobicokeNorthwest':'Etobicoke Northwest','East YorkEast Toronto':'East York/East Toronto',\n",
        "                                             'MississaugaCanada Post Gateway Processing Centre':'Mississauga'})"
      ],
      "execution_count": null,
      "outputs": []
    },
    {
      "cell_type": "code",
      "metadata": {
        "colab": {
          "base_uri": "https://localhost:8080/"
        },
        "id": "7IhyCjGW6gTU",
        "outputId": "b01a4235-2190-4ffa-f56a-1668b720a83c"
      },
      "source": [
        "print(data.head())"
      ],
      "execution_count": null,
      "outputs": [
        {
          "output_type": "stream",
          "text": [
            "  PostalCode           Borough                      Neighborhood\n",
            "0        M3A        North York                         Parkwoods\n",
            "1        M4A        North York                  Victoria Village\n",
            "2        M5A  Downtown Toronto         Regent Park, Harbourfront\n",
            "3        M6A        North York  Lawrence Manor, Lawrence Heights\n",
            "4        M7A      Queen's Park     Ontario Provincial Government\n"
          ],
          "name": "stdout"
        }
      ]
    },
    {
      "cell_type": "code",
      "metadata": {
        "id": "93M0IIKx782-"
      },
      "source": [
        ""
      ],
      "execution_count": null,
      "outputs": []
    }
  ]
}